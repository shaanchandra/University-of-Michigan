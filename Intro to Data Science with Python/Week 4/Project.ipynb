{
 "cells": [
  {
   "cell_type": "code",
   "execution_count": 1,
   "metadata": {
    "collapsed": true
   },
   "outputs": [],
   "source": [
    "import pandas as pd\n",
    "import numpy as np\n",
    "from scipy.stats import ttest_ind\n",
    "import re "
   ]
  },
  {
   "cell_type": "code",
   "execution_count": 2,
   "metadata": {
    "collapsed": true
   },
   "outputs": [],
   "source": [
    "states = {'OH': 'Ohio', 'KY': 'Kentucky', 'AS': 'American Samoa', 'NV': 'Nevada', 'WY': 'Wyoming', 'NA': 'National', 'AL': 'Alabama', 'MD': 'Maryland', 'AK': 'Alaska', 'UT': 'Utah', 'OR': 'Oregon', 'MT': 'Montana', 'IL': 'Illinois', 'TN': 'Tennessee', 'DC': 'District of Columbia', 'VT': 'Vermont', 'ID': 'Idaho', 'AR': 'Arkansas', 'ME': 'Maine', 'WA': 'Washington', 'HI': 'Hawaii', 'WI': 'Wisconsin', 'MI': 'Michigan', 'IN': 'Indiana', 'NJ': 'New Jersey', 'AZ': 'Arizona', 'GU': 'Guam', 'MS': 'Mississippi', 'PR': 'Puerto Rico', 'NC': 'North Carolina', 'TX': 'Texas', 'SD': 'South Dakota', 'MP': 'Northern Mariana Islands', 'IA': 'Iowa', 'MO': 'Missouri', 'CT': 'Connecticut', 'WV': 'West Virginia', 'SC': 'South Carolina', 'LA': 'Louisiana', 'KS': 'Kansas', 'NY': 'New York', 'NE': 'Nebraska', 'OK': 'Oklahoma', 'FL': 'Florida', 'CA': 'California', 'CO': 'Colorado', 'PA': 'Pennsylvania', 'DE': 'Delaware', 'NM': 'New Mexico', 'RI': 'Rhode Island', 'MN': 'Minnesota',\n",
    "          'VI': 'Virgin Islands', 'NH': 'New Hampshire', 'MA': 'Massachusetts', 'GA': 'Georgia', 'ND': 'North Dakota', 'VA': 'Virginia'}"
   ]
  },
  {
   "cell_type": "code",
   "execution_count": null,
   "metadata": {
    "collapsed": false
   },
   "outputs": [],
   "source": [
    "def list_univ_towns():\n",
    "    state = ''\n",
    "    Tupy = []\n",
    "   \n",
    "    # open txt file\n",
    "    with open('university_towns.txt') as file:\n",
    "        for line in file:\n",
    "            # remove trailing whitespace\n",
    "            line = line.strip()\n",
    "        \n",
    "            word = re.findall('(.+)\\[edit]', line)\n",
    "            if word:\n",
    "                state = word[0].strip()\n",
    "                continue\n",
    "            word = re.findall('(.+?)\\(', line)\n",
    "            if word:\n",
    "                Tupy.append((state, word[0].strip()))\n",
    "            else:\n",
    "                Tupy.append((state, line.strip()))\n",
    "        \n",
    "    df = pd.DataFrame({'RegionName':[i[1] for i in Tupy], 'State': [i[0] for i in Tupy]}, columns=[\"State\",\"RegionName\"])\n",
    "    return df\n",
    "list_univ_towns()"
   ]
  },
  {
   "cell_type": "code",
   "execution_count": null,
   "metadata": {
    "collapsed": false
   },
   "outputs": [],
   "source": [
    "def recession_start():\n",
    "    gdplev = pd.read_excel('gdplev.xls', skiprows=7, parse_cols=[4,6])\n",
    "    gdplev.columns = ['quarter','gdp']\n",
    "    gdplev = gdplev.iloc[212:,:].copy()\n",
    "    gdplev.index = range(len(gdplev))\n",
    "    gdplev['recession'] = 0\n",
    "\n",
    "    for i in range(len(gdplev['recession'])):\n",
    "        if i<2:\n",
    "            continue\n",
    "        if gdplev['gdp'].iloc[i] < gdplev['gdp'].iloc[i-1] < gdplev['gdp'].iloc[i-2]:\n",
    "            gdplev.set_value(i-1, 'recession', 1)\n",
    "        \n",
    "    return gdplev.loc[gdplev[gdplev.recession == 1].index[0], 'quarter']\n",
    "recession_start()"
   ]
  },
  {
   "cell_type": "code",
   "execution_count": null,
   "metadata": {
    "collapsed": false
   },
   "outputs": [],
   "source": [
    "df = pd.read_excel('gdplev.xls', skiprows=7, parse_cols=[4,6])\n",
    "df.columns = ['quarter','gdp']\n",
    "df = df.iloc[212:,:].copy()\n",
    "df.index = range(len(df))\n",
    "df['diff']= df['gdp'].diff()\n",
    "gdp2 = []\n",
    "gdp2 = np.where(df['diff']<0, 0,1)\n",
    "gdp2"
   ]
  },
  {
   "cell_type": "code",
   "execution_count": null,
   "metadata": {
    "collapsed": false
   },
   "outputs": [],
   "source": []
  },
  {
   "cell_type": "code",
   "execution_count": null,
   "metadata": {
    "collapsed": true
   },
   "outputs": [],
   "source": []
  }
 ],
 "metadata": {
  "kernelspec": {
   "display_name": "Python 3",
   "language": "python",
   "name": "python3"
  },
  "language_info": {
   "codemirror_mode": {
    "name": "ipython",
    "version": 3
   },
   "file_extension": ".py",
   "mimetype": "text/x-python",
   "name": "python",
   "nbconvert_exporter": "python",
   "pygments_lexer": "ipython3",
   "version": "3.6.0"
  }
 },
 "nbformat": 4,
 "nbformat_minor": 2
}
